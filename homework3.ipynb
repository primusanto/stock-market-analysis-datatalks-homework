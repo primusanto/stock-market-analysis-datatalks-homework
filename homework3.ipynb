{
 "cells": [
  {
   "cell_type": "markdown",
   "id": "22694916",
   "metadata": {},
   "source": [
    "Question 1: Dummies for Month and Week-of-Month"
   ]
  },
  {
   "cell_type": "code",
   "execution_count": 56,
   "id": "f7aeeedd",
   "metadata": {},
   "outputs": [],
   "source": [
    "#copy variable from [2025]_Module_3_Colab_Time_Series_Modeling.ipynb\n",
    "%store -r df"
   ]
  },
  {
   "cell_type": "code",
   "execution_count": 30,
   "id": "5004fcb0",
   "metadata": {},
   "outputs": [],
   "source": [
    "import pandas as pd"
   ]
  },
  {
   "cell_type": "code",
   "execution_count": 65,
   "id": "a5d2435a",
   "metadata": {},
   "outputs": [],
   "source": [
    "import datetime\n",
    "import calendar\n",
    "\n",
    "def week_of_month(date):\n",
    "    \"\"\"\n",
    "    Calculate the week of the month for a given date.\n",
    "    Returns only weeks 1-5, ensuring no month has more than 5 weeks.\n",
    "    \n",
    "    Args:\n",
    "        date: datetime.date object or datetime.datetime object\n",
    "        \n",
    "    Returns:\n",
    "        int: Week number (1-5)\n",
    "    \"\"\"\n",
    "    # Get all days in the month\n",
    "    month_calendar = calendar.monthcalendar(date.year, date.month)\n",
    "    \n",
    "    # Find which week the date falls into\n",
    "    for week_num, week in enumerate(month_calendar, 1):\n",
    "        if date.day in week:\n",
    "            # Cap at week 5 to ensure we never return week 6\n",
    "            #return min(week_num, 5)\n",
    "            return date.strftime(\"%B\") + '_w' + str(min(week_num, 5))\n",
    "    \n",
    "    return None  # Should never reach here\n",
    "    "
   ]
  },
  {
   "cell_type": "code",
   "execution_count": 66,
   "id": "b7c34b5a",
   "metadata": {},
   "outputs": [],
   "source": [
    "df['month_wom'] = df.Date.apply(week_of_month)"
   ]
  },
  {
   "cell_type": "code",
   "execution_count": 67,
   "id": "6ca37688",
   "metadata": {},
   "outputs": [
    {
     "data": {
      "text/plain": [
       "3490    January_w2\n",
       "3491    January_w2\n",
       "3492    January_w2\n",
       "3493    January_w2\n",
       "3494    January_w2\n",
       "Name: month_wom, dtype: object"
      ]
     },
     "execution_count": 67,
     "metadata": {},
     "output_type": "execute_result"
    }
   ],
   "source": [
    "df['month_wom'].head()"
   ]
  },
  {
   "cell_type": "code",
   "execution_count": 68,
   "id": "af9dbca8",
   "metadata": {},
   "outputs": [],
   "source": [
    "CATEGORICAL = ['Month', 'Weekday', 'Ticker', 'ticker_type', 'month_wom']"
   ]
  },
  {
   "cell_type": "code",
   "execution_count": 69,
   "id": "4f5bd07d",
   "metadata": {},
   "outputs": [],
   "source": [
    "dummy_variables = pd.get_dummies(df[CATEGORICAL], dtype='int32')"
   ]
  },
  {
   "cell_type": "code",
   "execution_count": 96,
   "id": "f7d13f7b",
   "metadata": {},
   "outputs": [
    {
     "name": "stdout",
     "output_type": "stream",
     "text": [
      "number of dummy variables: 115\n"
     ]
    }
   ],
   "source": [
    "##check the number of dummy variables\n",
    "print(f'number of dummy variables: {len(dummy_variables.columns)}')"
   ]
  },
  {
   "cell_type": "code",
   "execution_count": 73,
   "id": "5f1aaa56",
   "metadata": {},
   "outputs": [],
   "source": [
    "# get dummies names in a list\n",
    "DUMMIES = dummy_variables.keys().to_list()"
   ]
  },
  {
   "cell_type": "code",
   "execution_count": null,
   "id": "e8292cdb",
   "metadata": {},
   "outputs": [],
   "source": [
    "##call variables from [2025]_Module_3_Colab_Time_Series_Modeling.ipynb\n",
    "%store -r TO_DROP\n",
    "%store -r TO_PREDICT\n",
    "%store -r NUMERICAL"
   ]
  },
  {
   "cell_type": "code",
   "execution_count": 77,
   "id": "d1f3b4b1",
   "metadata": {},
   "outputs": [],
   "source": [
    "# Concatenate the dummy variables with the original DataFrame\n",
    "df_with_dummies = pd.concat([df, dummy_variables], axis=1)"
   ]
  },
  {
   "cell_type": "code",
   "execution_count": null,
   "id": "f0783699",
   "metadata": {},
   "outputs": [],
   "source": [
    "corr_is_positive_growth_30d_future = df_with_dummies[NUMERICAL+DUMMIES+TO_PREDICT].corr()['is_positive_growth_30d_future']"
   ]
  },
  {
   "cell_type": "code",
   "execution_count": 97,
   "id": "a2cf2ebe",
   "metadata": {},
   "outputs": [],
   "source": [
    "# create a dataframe for an easy way to sort, filter by month_wom\n",
    "corr_df = pd.DataFrame(corr_is_positive_growth_30d_future.filter(like='month_wom'))"
   ]
  },
  {
   "cell_type": "code",
   "execution_count": 98,
   "id": "1294613f",
   "metadata": {},
   "outputs": [],
   "source": [
    "corr_df['abs_corr'] = corr_df.is_positive_growth_30d_future.abs().round(3)"
   ]
  },
  {
   "cell_type": "code",
   "execution_count": 102,
   "id": "cb1807d5",
   "metadata": {},
   "outputs": [
    {
     "data": {
      "text/html": [
       "<div>\n",
       "<style scoped>\n",
       "    .dataframe tbody tr th:only-of-type {\n",
       "        vertical-align: middle;\n",
       "    }\n",
       "\n",
       "    .dataframe tbody tr th {\n",
       "        vertical-align: top;\n",
       "    }\n",
       "\n",
       "    .dataframe thead th {\n",
       "        text-align: right;\n",
       "    }\n",
       "</style>\n",
       "<table border=\"1\" class=\"dataframe\">\n",
       "  <thead>\n",
       "    <tr style=\"text-align: right;\">\n",
       "      <th></th>\n",
       "      <th>is_positive_growth_30d_future</th>\n",
       "      <th>abs_corr</th>\n",
       "    </tr>\n",
       "  </thead>\n",
       "  <tbody>\n",
       "    <tr>\n",
       "      <th>month_wom_November_w4</th>\n",
       "      <td>0.027948</td>\n",
       "      <td>0.028</td>\n",
       "    </tr>\n",
       "    <tr>\n",
       "      <th>month_wom_October_w5</th>\n",
       "      <td>0.025295</td>\n",
       "      <td>0.025</td>\n",
       "    </tr>\n",
       "    <tr>\n",
       "      <th>month_wom_June_w4</th>\n",
       "      <td>-0.023573</td>\n",
       "      <td>0.024</td>\n",
       "    </tr>\n",
       "    <tr>\n",
       "      <th>month_wom_September_w4</th>\n",
       "      <td>-0.023093</td>\n",
       "      <td>0.023</td>\n",
       "    </tr>\n",
       "    <tr>\n",
       "      <th>month_wom_June_w5</th>\n",
       "      <td>0.021141</td>\n",
       "      <td>0.021</td>\n",
       "    </tr>\n",
       "    <tr>\n",
       "      <th>month_wom_March_w4</th>\n",
       "      <td>0.020575</td>\n",
       "      <td>0.021</td>\n",
       "    </tr>\n",
       "    <tr>\n",
       "      <th>month_wom_December_w4</th>\n",
       "      <td>0.020936</td>\n",
       "      <td>0.021</td>\n",
       "    </tr>\n",
       "    <tr>\n",
       "      <th>month_wom_May_w5</th>\n",
       "      <td>0.019513</td>\n",
       "      <td>0.020</td>\n",
       "    </tr>\n",
       "    <tr>\n",
       "      <th>month_wom_February_w2</th>\n",
       "      <td>0.018856</td>\n",
       "      <td>0.019</td>\n",
       "    </tr>\n",
       "    <tr>\n",
       "      <th>month_wom_November_w5</th>\n",
       "      <td>0.016691</td>\n",
       "      <td>0.017</td>\n",
       "    </tr>\n",
       "  </tbody>\n",
       "</table>\n",
       "</div>"
      ],
      "text/plain": [
       "                        is_positive_growth_30d_future  abs_corr\n",
       "month_wom_November_w4                        0.027948     0.028\n",
       "month_wom_October_w5                         0.025295     0.025\n",
       "month_wom_June_w4                           -0.023573     0.024\n",
       "month_wom_September_w4                      -0.023093     0.023\n",
       "month_wom_June_w5                            0.021141     0.021\n",
       "month_wom_March_w4                           0.020575     0.021\n",
       "month_wom_December_w4                        0.020936     0.021\n",
       "month_wom_May_w5                             0.019513     0.020\n",
       "month_wom_February_w2                        0.018856     0.019\n",
       "month_wom_November_w5                        0.016691     0.017"
      ]
     },
     "execution_count": 102,
     "metadata": {},
     "output_type": "execute_result"
    }
   ],
   "source": [
    "corr_is_positive_growth_30d_future_df.sort_values(by='abs_corr', ascending=False).head(10)"
   ]
  },
  {
   "cell_type": "markdown",
   "id": "a048cb96",
   "metadata": {},
   "source": [
    "Question 2: Define New \"Hand\" Rules on Macro and Technical Indicator Variables\n"
   ]
  },
  {
   "cell_type": "code",
   "execution_count": null,
   "id": "a97d9c3c",
   "metadata": {},
   "outputs": [],
   "source": []
  }
 ],
 "metadata": {
  "kernelspec": {
   "display_name": ".venv",
   "language": "python",
   "name": "python3"
  },
  "language_info": {
   "codemirror_mode": {
    "name": "ipython",
    "version": 3
   },
   "file_extension": ".py",
   "mimetype": "text/x-python",
   "name": "python",
   "nbconvert_exporter": "python",
   "pygments_lexer": "ipython3",
   "version": "3.13.5"
  }
 },
 "nbformat": 4,
 "nbformat_minor": 5
}
