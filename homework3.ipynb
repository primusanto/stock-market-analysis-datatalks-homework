{
 "cells": [
  {
   "cell_type": "code",
   "execution_count": null,
   "id": "0f65eaff",
   "metadata": {},
   "outputs": [],
   "source": [
    "def month_week():\n",
    "    (d.day - 1) // 7 + 1"
   ]
  },
  {
   "cell_type": "code",
   "execution_count": 4,
   "id": "a5d2435a",
   "metadata": {},
   "outputs": [],
   "source": [
    "import datetime\n",
    "import calendar\n",
    "\n",
    "def week_of_month(tgtdate):\n",
    "    tgtdate = tgtdate.to_datetime()\n",
    "\n",
    "    days_this_month = calendar.mdays[tgtdate.month]\n",
    "    for i in range(1, days_this_month):\n",
    "        d = datetime.datetime(tgtdate.year, tgtdate.month, i)\n",
    "        if d.day - d.weekday() > 0:\n",
    "            startdate = d\n",
    "            break\n",
    "    # now we canuse the modulo 7 appraoch\n",
    "    return (tgtdate - startdate).days //7 + 1\n",
    "\n",
    "\n"
   ]
  },
  {
   "cell_type": "code",
   "execution_count": 15,
   "id": "0af4e4b0",
   "metadata": {},
   "outputs": [],
   "source": [
    "CATEGORICAL = ['Month', 'Weekday', 'Ticker', 'ticker_type']"
   ]
  },
  {
   "cell_type": "code",
   "execution_count": 17,
   "id": "666a4593",
   "metadata": {},
   "outputs": [
    {
     "data": {
      "text/html": [
       "<div>\n",
       "<style scoped>\n",
       "    .dataframe tbody tr th:only-of-type {\n",
       "        vertical-align: middle;\n",
       "    }\n",
       "\n",
       "    .dataframe tbody tr th {\n",
       "        vertical-align: top;\n",
       "    }\n",
       "\n",
       "    .dataframe thead th {\n",
       "        text-align: right;\n",
       "    }\n",
       "</style>\n",
       "<table border=\"1\" class=\"dataframe\">\n",
       "  <thead>\n",
       "    <tr style=\"text-align: right;\">\n",
       "      <th></th>\n",
       "      <th>Month</th>\n",
       "      <th>Ticker</th>\n",
       "      <th>Weekday</th>\n",
       "      <th>ticker_type</th>\n",
       "    </tr>\n",
       "  </thead>\n",
       "  <tbody>\n",
       "    <tr>\n",
       "      <th>0</th>\n",
       "      <td>True</td>\n",
       "      <td>False</td>\n",
       "      <td>False</td>\n",
       "      <td>False</td>\n",
       "    </tr>\n",
       "    <tr>\n",
       "      <th>1</th>\n",
       "      <td>False</td>\n",
       "      <td>False</td>\n",
       "      <td>True</td>\n",
       "      <td>False</td>\n",
       "    </tr>\n",
       "    <tr>\n",
       "      <th>2</th>\n",
       "      <td>False</td>\n",
       "      <td>True</td>\n",
       "      <td>False</td>\n",
       "      <td>False</td>\n",
       "    </tr>\n",
       "    <tr>\n",
       "      <th>3</th>\n",
       "      <td>False</td>\n",
       "      <td>False</td>\n",
       "      <td>False</td>\n",
       "      <td>True</td>\n",
       "    </tr>\n",
       "  </tbody>\n",
       "</table>\n",
       "</div>"
      ],
      "text/plain": [
       "   Month  Ticker  Weekday  ticker_type\n",
       "0   True   False    False        False\n",
       "1  False   False     True        False\n",
       "2  False    True    False        False\n",
       "3  False   False    False         True"
      ]
     },
     "execution_count": 17,
     "metadata": {},
     "output_type": "execute_result"
    }
   ],
   "source": [
    "import pandas as pd\n",
    "\n",
    "a = pd.get_dummies(CATEGORICAL)\n",
    "a"
   ]
  },
  {
   "cell_type": "code",
   "execution_count": null,
   "id": "b31f3e42",
   "metadata": {},
   "outputs": [
    {
     "ename": "AttributeError",
     "evalue": "'str' object has no attribute 'to_datetime'",
     "output_type": "error",
     "traceback": [
      "\u001b[31m---------------------------------------------------------------------------\u001b[39m",
      "\u001b[31mAttributeError\u001b[39m                            Traceback (most recent call last)",
      "\u001b[36mCell\u001b[39m\u001b[36m \u001b[39m\u001b[32mIn[21]\u001b[39m\u001b[32m, line 1\u001b[39m\n\u001b[32m----> \u001b[39m\u001b[32m1\u001b[39m \u001b[43mdate_string\u001b[49m\u001b[43m.\u001b[49m\u001b[43mto_datetime\u001b[49m()\n",
      "\u001b[31mAttributeError\u001b[39m: 'str' object has no attribute 'to_datetime'"
     ]
    }
   ],
   "source": []
  },
  {
   "cell_type": "code",
   "execution_count": 12,
   "id": "5586d428",
   "metadata": {},
   "outputs": [
    {
     "name": "stdout",
     "output_type": "stream",
     "text": [
      "DatetimeIndex(['2024-01-01', '2024-02-01', '2024-03-01', '2024-04-01',\n",
      "               '2024-05-01', '2024-06-01', '2024-07-01', '2024-08-01',\n",
      "               '2024-09-01', '2024-10-01', '2024-11-01', '2024-12-01'],\n",
      "              dtype='datetime64[ns]', freq='MS')\n"
     ]
    }
   ],
   "source": [
    "import pandas as pd\n",
    "\n",
    "# Create first days for 12 months\n",
    "first_days = pd.date_range(start='2024-01-01', periods=12, freq='MS')\n",
    "print(first_days)\n"
   ]
  },
  {
   "cell_type": "code",
   "execution_count": null,
   "id": "8108da27",
   "metadata": {},
   "outputs": [
    {
     "ename": "TypeError",
     "evalue": "'module' object is not callable",
     "output_type": "error",
     "traceback": [
      "\u001b[31m---------------------------------------------------------------------------\u001b[39m",
      "\u001b[31mTypeError\u001b[39m                                 Traceback (most recent call last)",
      "\u001b[36mCell\u001b[39m\u001b[36m \u001b[39m\u001b[32mIn[10]\u001b[39m\u001b[32m, line 11\u001b[39m\n\u001b[32m      4\u001b[39m dates = pd.date_range(\n\u001b[32m      5\u001b[39m     start=pd.Timestamp.now().normalize().replace(day=\u001b[32m1\u001b[39m),\n\u001b[32m      6\u001b[39m     periods=\u001b[32m12\u001b[39m,\n\u001b[32m      7\u001b[39m     freq=\u001b[33m'\u001b[39m\u001b[33mMS\u001b[39m\u001b[33m'\u001b[39m  \u001b[38;5;66;03m# Month Start frequency\u001b[39;00m\n\u001b[32m      8\u001b[39m )\n\u001b[32m     10\u001b[39m \u001b[38;5;66;03m# Convert to Series\u001b[39;00m\n\u001b[32m---> \u001b[39m\u001b[32m11\u001b[39m first_days = \u001b[43mpd\u001b[49m\u001b[43m(\u001b[49m\u001b[43mdates\u001b[49m\u001b[43m)\u001b[49m\n\u001b[32m     12\u001b[39m \u001b[38;5;28mprint\u001b[39m(first_days)\n",
      "\u001b[31mTypeError\u001b[39m: 'module' object is not callable"
     ]
    }
   ],
   "source": [
    "import pandas as pd\n",
    "\n",
    "# Create dates for first day of each month for next 12 months\n",
    "dates = pd.date_range(\n",
    "    start=pd.Timestamp.now().normalize().replace(day=1),\n",
    "    periods=12,\n",
    "    freq='MS'  # Month Start frequency\n",
    ")\n",
    "\n",
    "# Convert to Series\n",
    "first_days = pd(dates)\n",
    "print(first_days)\n"
   ]
  },
  {
   "cell_type": "code",
   "execution_count": null,
   "id": "8a955673",
   "metadata": {},
   "outputs": [],
   "source": []
  }
 ],
 "metadata": {
  "kernelspec": {
   "display_name": ".venv",
   "language": "python",
   "name": "python3"
  },
  "language_info": {
   "codemirror_mode": {
    "name": "ipython",
    "version": 3
   },
   "file_extension": ".py",
   "mimetype": "text/x-python",
   "name": "python",
   "nbconvert_exporter": "python",
   "pygments_lexer": "ipython3",
   "version": "3.13.5"
  }
 },
 "nbformat": 4,
 "nbformat_minor": 5
}
